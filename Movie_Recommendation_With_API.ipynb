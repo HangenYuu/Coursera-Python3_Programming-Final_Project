{
 "cells": [
  {
   "cell_type": "code",
   "execution_count": 2,
   "metadata": {},
   "outputs": [],
   "source": [
    "from requests import get\n",
    "\n",
    "def get_movies_from_tastedive(name):\n",
    "    '''Return 5 movies associated with the name from the database\n",
    "    of TasteDive.\n",
    "    \n",
    "    Args:\n",
    "        name: a string, name of a movie or an artist\n",
    "        \n",
    "    Returns:\n",
    "        a dictionary in the form of\n",
    "        {'Similar': {'Info': [{'Name': , 'Type': }], 'Results': [{'Name': , 'Type': },...]}}'''\n",
    "    baseurl = 'https://tastedive.com/api/similar'\n",
    "    param_dic = {'limit': 5, 'q': name, 'type': 'movies'}\n",
    "    return get(baseurl, params=param_dic).json()"
   ]
  },
  {
   "cell_type": "code",
   "execution_count": 3,
   "metadata": {},
   "outputs": [
    {
     "name": "stdout",
     "output_type": "stream",
     "text": [
      "['Creed', 'Ready Player One', 'Ant-Man And The Wasp', 'Deadpool 2', 'Thor: Ragnarok']\n"
     ]
    }
   ],
   "source": [
    "def extract_movie_titles(movie_dic):\n",
    "    '''Extract the list of movie title from the dictionary returned\n",
    "    by TasteDive.\n",
    "\n",
    "    Args:\n",
    "        movie_dic: a dictionary returned from tastedive in the format of\n",
    "                   {'Similar': {'Info': [{'Name': , 'Type': }], 'Results': [{'Name': , 'Type': },...]}}\n",
    "    Returns:\n",
    "        a list of movie titles'''\n",
    "    return [title['Name'] for title in movie_dic['Similar']['Results']]\n",
    "\n",
    "print(extract_movie_titles(get_movies_from_tastedive('Black Panther')))"
   ]
  },
  {
   "cell_type": "code",
   "execution_count": 4,
   "metadata": {},
   "outputs": [
    {
     "name": "stdout",
     "output_type": "stream",
     "text": [
      "['Ant-Man And The Wasp', 'Avengers: Endgame', 'Aquaman', 'Creed', 'Shazam!', 'Spider-Man: Far From Home', 'Thor: Ragnarok', 'Ready Player One', 'Deadpool 2']\n"
     ]
    }
   ],
   "source": [
    "def get_related_titles(movie_list):\n",
    "    '''Take a list of movie tiles as inputs, find 5 related movie titles from\n",
    "    TasteDive, combine them into a single list with no repetition\n",
    "    \n",
    "    Args:\n",
    "        movie_list: a list of movie titles\n",
    "        \n",
    "    Returns:\n",
    "        a list of related movie titles'''\n",
    "    assoc_set = set()\n",
    "    for title in movie_list:\n",
    "        assoc_set.update(extract_movie_titles(get_movies_from_tastedive(title)))\n",
    "    return list(assoc_set)\n",
    "\n",
    "print(get_related_titles([\"Black Panther\", \"Captain Marvel\"]))"
   ]
  },
  {
   "cell_type": "code",
   "execution_count": 5,
   "metadata": {},
   "outputs": [
    {
     "name": "stdout",
     "output_type": "stream",
     "text": [
      "{'Title': 'Black Panther', 'Year': '2018', 'Rated': 'PG-13', 'Released': '16 Feb 2018', 'Runtime': '134 min', 'Genre': 'Action, Adventure, Sci-Fi', 'Director': 'Ryan Coogler', 'Writer': 'Ryan Coogler, Joe Robert Cole, Stan Lee', 'Actors': \"Chadwick Boseman, Michael B. Jordan, Lupita Nyong'o\", 'Plot': \"T'Challa, heir to the hidden but advanced kingdom of Wakanda, must step forward to lead his people into a new future and must confront a challenger from his country's past.\", 'Language': 'English, Swahili, Nama, Xhosa, Korean', 'Country': 'United States', 'Awards': 'Won 3 Oscars. 116 wins & 281 nominations total', 'Poster': 'https://m.media-amazon.com/images/M/MV5BMTg1MTY2MjYzNV5BMl5BanBnXkFtZTgwMTc4NTMwNDI@._V1_SX300.jpg', 'Ratings': [{'Source': 'Internet Movie Database', 'Value': '7.3/10'}, {'Source': 'Rotten Tomatoes', 'Value': '96%'}, {'Source': 'Metacritic', 'Value': '88/100'}], 'Metascore': '88', 'imdbRating': '7.3', 'imdbVotes': '734,689', 'imdbID': 'tt1825683', 'Type': 'movie', 'DVD': '02 May 2018', 'BoxOffice': '$700,426,566', 'Production': 'N/A', 'Website': 'N/A', 'Response': 'True'}\n"
     ]
    }
   ],
   "source": [
    "def get_movie_data(movie_title):\n",
    "    '''Get movie data from OMDB\n",
    "    Args:\n",
    "        movie_title: a string with the movie title\n",
    "        \n",
    "    Returns:\n",
    "        a dictionary containing the information of the movie'''\n",
    "    baseurl = 'http://www.omdbapi.com/'\n",
    "    param_dic = {'apikey': '3dceaff', 't': movie_title, 'r': 'json'}\n",
    "    return get(baseurl, params=param_dic).json()\n",
    "print(get_movie_data('Black Panther'))"
   ]
  },
  {
   "cell_type": "code",
   "execution_count": 6,
   "metadata": {},
   "outputs": [
    {
     "name": "stdout",
     "output_type": "stream",
     "text": [
      "96\n"
     ]
    }
   ],
   "source": [
    "def get_movie_rating(omdb_dic):\n",
    "    '''Take an omdb dictionary of a movie title, extract the Rotten\n",
    "    Tomatoes score\n",
    "    \n",
    "    Args:\n",
    "        omdb_dic: a dictionary returned from omdbapi.com, containg\n",
    "        the information of a movie\n",
    "        \n",
    "    Returns:\n",
    "        an integer, the Rotten Tomatoes score of the movie. If it does not have\n",
    "        one, return 0'''\n",
    "    try:\n",
    "        for score in omdb_dic['Ratings']:\n",
    "            if score['Source'] == 'Rotten Tomatoes':\n",
    "                score_list = score['Value'].split('%')\n",
    "                return int(score_list[0])\n",
    "    except KeyError:\n",
    "        return 0\n",
    "    return 0\n",
    "\n",
    "print(get_movie_rating(get_movie_data('Black Panther')))"
   ]
  },
  {
   "cell_type": "code",
   "execution_count": 7,
   "metadata": {},
   "outputs": [
    {
     "name": "stdout",
     "output_type": "stream",
     "text": [
      "['The Railway Children', 'Pitch Perfect', 'Crazy, Stupid, Love.', 'The Heat', 'Franklyn', 'Tag', 'Unaccompanied Minors', 'Bride Wars', 'Valley Girl', 'Bullet Boy']\n"
     ]
    }
   ],
   "source": [
    "def get_sorted_recommendations(movie_list):\n",
    "    '''Take a list of movie titles as input, return a sorted list of related movie\n",
    "    titles (ranked by Rotten Tomatoes score). The code is not incompatible with\n",
    "    Python 3.5 or lower due to the reimplementation of Python dictionary from\n",
    "    Python 3.6 onwards.\n",
    "    \n",
    "    Args:\n",
    "        movie_list(list): the list of movie titles\n",
    "        \n",
    "    Returns:\n",
    "        list: The sorted recommended list\n",
    "    \n",
    "    '''\n",
    "    rec_list = get_related_titles(movie_list)\n",
    "    rec_dic = {}\n",
    "    for item in rec_list:\n",
    "        rec_dic[item] = get_movie_rating(get_movie_data(item))\n",
    "    sorted_rec_dic = sorted(rec_dic, reverse=True, key=lambda k: (rec_dic[k], k))\n",
    "    return list(sorted_rec_dic)\n",
    "\n",
    "print(get_sorted_recommendations([\"Bridesmaids\", \"Sherlock Holmes\"]))"
   ]
  }
 ],
 "metadata": {
  "kernelspec": {
   "display_name": "Python 3.9.7 ('base')",
   "language": "python",
   "name": "python3"
  },
  "language_info": {
   "codemirror_mode": {
    "name": "ipython",
    "version": 3
   },
   "file_extension": ".py",
   "mimetype": "text/x-python",
   "name": "python",
   "nbconvert_exporter": "python",
   "pygments_lexer": "ipython3",
   "version": "3.9.7"
  },
  "orig_nbformat": 4,
  "vscode": {
   "interpreter": {
    "hash": "2043299c89c8cd0b4d1a6f5cf4529bd58e6a4e0fe3181a25e0d328c821cdc5c5"
   }
  }
 },
 "nbformat": 4,
 "nbformat_minor": 2
}
